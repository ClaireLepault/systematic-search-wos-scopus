{
 "cells": [
  {
   "cell_type": "markdown",
   "metadata": {},
   "source": [
    "# Systematic search on Web of Science and Scopus"
   ]
  },
  {
   "cell_type": "markdown",
   "metadata": {},
   "source": [
    "## I. Create search equation"
   ]
  },
  {
   "cell_type": "markdown",
   "metadata": {},
   "source": [
    "The first thing to determine when starting a systematic search is the search equation from which the articles will be identified. The search equation consists of the terms that you want to observe in different fields of the article. "
   ]
  },
  {
   "cell_type": "markdown",
   "metadata": {},
   "source": [
    "### I.A General search rules\n",
    "\n",
    "I will present below the important features to create a research equation. However, you can find the detailed rules of search techniques on [WoS](http://images.webofknowledge.com/WOKRS59B4_2/help/WOS/hs_search_rules.html) and [Scopus](https://blog.scopus.com/posts/6-simple-search-tips-lessons-learned-from-the-scopus-webinar) online. \n",
    "\n",
    "**Operators** allowing both on Scopus and WoS to determine the links between these terms.\n",
    "\n",
    "**Special characters**, wildcards, also allow you to broaden the search from the expression of a single term or to restrict it by searching for an exact expression with quotation marks. \n",
    "\n",
    "To build large databases, the most commonly used **fields for searches** are title, abstract and keywords. However, be careful, the keywords taken into account, both on Wos and Scopus, are not only the authors keywords but also keywords extrapolated by Scopus and Wos from algorithms that cannot be accessed. Once the database has been set up, it may therefore be useful to refine the selection by searching for the desired terms only among the authors keywords.  "
   ]
  },
  {
   "cell_type": "markdown",
   "metadata": {},
   "source": [
    "#### Boolean operators"
   ]
  },
  {
   "cell_type": "markdown",
   "metadata": {},
   "source": [
    "<img src=\"img/Operators.png\" width = \"900\">"
   ]
  },
  {
   "cell_type": "markdown",
   "metadata": {},
   "source": [
    "Use parentheses to group compound Boolean operators. \n",
    "\n",
    "For example:(climate) AND (mitigation OR adaptation)"
   ]
  },
  {
   "cell_type": "markdown",
   "metadata": {},
   "source": [
    "#### Special Characters"
   ]
  },
  {
   "cell_type": "markdown",
   "metadata": {},
   "source": [
    "<img src=\"img/Characters.png\" width = \"900\">"
   ]
  },
  {
   "cell_type": "markdown",
   "metadata": {},
   "source": [
    "#### Tag fields"
   ]
  },
  {
   "cell_type": "markdown",
   "metadata": {},
   "source": [
    "<img src=\"img/Tag_fields.png\" width = \"900\">"
   ]
  },
  {
   "cell_type": "markdown",
   "metadata": {},
   "source": [
    "### I.B Accelerate the creation of complex research equations thanks to Python"
   ]
  },
  {
   "cell_type": "markdown",
   "metadata": {},
   "source": [
    "We will use the *pandas* library"
   ]
  },
  {
   "cell_type": "code",
   "execution_count": 1,
   "metadata": {},
   "outputs": [],
   "source": [
    "import pandas as pd"
   ]
  },
  {
   "cell_type": "markdown",
   "metadata": {},
   "source": [
    "#### Countries search : identifying all articles with a country name in the title and the term mitigation in the title, abstract or keywords"
   ]
  },
  {
   "cell_type": "markdown",
   "metadata": {},
   "source": [
    "Download the list of countries (from the [methodology](https://unstats.un.org/unsd/methodology/m49/overview/) of the Statistics Division of the United Nations). <br>\n",
    "I have added different denominations some countries (for example: United Republic of Tanzania + Tanzania, United States of America + United States, USA, US, U.S.). Each denomination is identified with the original name by the ISO-alpha3 code (primary key)."
   ]
  },
  {
   "cell_type": "code",
   "execution_count": 2,
   "metadata": {},
   "outputs": [],
   "source": [
    "countriesPath = \"Instructions/UNSD_Methodology_multi_names.csv\"\n",
    "countries_df = pd.read_csv(countriesPath, encoding='utf-8')\n",
    "countries_list = countries_df['Country_Name'].tolist()"
   ]
  },
  {
   "cell_type": "markdown",
   "metadata": {},
   "source": [
    "#### Equation on WoS"
   ]
  },
  {
   "cell_type": "markdown",
   "metadata": {},
   "source": [
    "Start the search equation according to the WoS syntax"
   ]
  },
  {
   "cell_type": "code",
   "execution_count": null,
   "metadata": {},
   "outputs": [],
   "source": [
    "wos_eq = 'TI=('"
   ]
  },
  {
   "cell_type": "markdown",
   "metadata": {},
   "source": [
    "Create a loop from the first to the penultimate country to add names in sequence and separate them by the operator \"OR\""
   ]
  },
  {
   "cell_type": "code",
   "execution_count": null,
   "metadata": {},
   "outputs": [],
   "source": [
    "for country in countries_list[:-1]: \n",
    "    wos_eq += '\"'+ str(country)+ '\" OR '"
   ]
  },
  {
   "cell_type": "markdown",
   "metadata": {},
   "source": [
    "Conclude the title constraint with the name of the last country and add the topic constraint related to the term mitigation "
   ]
  },
  {
   "cell_type": "code",
   "execution_count": null,
   "metadata": {},
   "outputs": [],
   "source": [
    "wos_eq += '\"' + str(countries_list[-1]) + '\") AND TS =(mitigation)'"
   ]
  },
  {
   "cell_type": "markdown",
   "metadata": {},
   "source": [
    "Display equation to copy and paste it on WoS: "
   ]
  },
  {
   "cell_type": "code",
   "execution_count": 4,
   "metadata": {},
   "outputs": [
    {
     "data": {
      "text/plain": [
       "'TI=(\"Algeria\" OR \"Egypt\" OR \"Libya\" OR \"Morocco\" OR \"Sudan\" OR \"Tunisia\" OR \"Western Sahara\" OR \"British Indian Ocean Territory\" OR \"Burundi\" OR \"Comoros\" OR \"Djibouti\" OR \"Eritrea\" OR \"Ethiopia\" OR \"French Southern Territories\" OR \"Kenya\" OR \"Madagascar\" OR \"Malawi\" OR \"Mauritius\" OR \"Mayotte\" OR \"Mozambique\" OR \"Réunion\" OR \"Reunion\" OR \"Rwanda\" OR \"Seychelles\" OR \"Somalia\" OR \"South Sudan\" OR \"Uganda\" OR \"United Republic of Tanzania\" OR \"Tanzania\" OR \"Zambia\" OR \"Zimbabwe\" OR \"Angola\" OR \"Cameroon\" OR \"Central African Republic\" OR \"Chad\" OR \"Congo\" OR \"Democratic Republic of the Congo\" OR \"Equatorial Guinea\" OR \"Gabon\" OR \"Sao Tome and Principe\" OR \"Botswana\" OR \"Eswatini\" OR \"Lesotho\" OR \"Namibia\" OR \"South Africa\" OR \"Benin\" OR \"Burkina Faso\" OR \"Cabo Verde\" OR \"Côte d’Ivoire\" OR \"Ivory Coast\" OR \"Gambia\" OR \"Ghana\" OR \"Guinea\" OR \"Guinea-Bissau\" OR \"Liberia\" OR \"Mali\" OR \"Mauritania\" OR \"Niger\" OR \"Nigeria\" OR \"Saint Helena\" OR \"Senegal\" OR \"Sierra Leone\" OR \"Togo\" OR \"Anguilla\" OR \"Antigua and Barbuda\" OR \"Aruba\" OR \"Bahamas\" OR \"Barbados\" OR \"British Virgin Islands\" OR \"Cayman Islands\" OR \"Cuba\" OR \"Curaçao\" OR \"Dominica\" OR \"Dominican Republic\" OR \"Grenada\" OR \"Guadeloupe\" OR \"Haiti\" OR \"Jamaica\" OR \"Martinique\" OR \"Montserrat\" OR \"Puerto Rico\" OR \"Saint Barthélemy\" OR \"Saint Kitts and Nevis\" OR \"Saint Lucia\" OR \"Saint Martin\" OR \"Saint Vincent and the Grenadines\" OR \"Sint Maarten\" OR \"Trinidad and Tobago\" OR \"Turks and Caicos Islands\" OR \"United States Virgin Islands\" OR \"Belize\" OR \"Costa Rica\" OR \"El Salvador\" OR \"Guatemala\" OR \"Honduras\" OR \"Mexico\" OR \"Nicaragua\" OR \"Panama\" OR \"Argentina\" OR \"Bolivia\" OR \"Bouvet Island\" OR \"Brazil\" OR \"Chile\" OR \"Colombia\" OR \"Ecuador\" OR \"Falkland Islands\" OR \"French Guiana\" OR \"Guyana\" OR \"Paraguay\" OR \"Peru\" OR \"South Georgia and the South Sandwich Islands\" OR \"Suriname\" OR \"Uruguay\" OR \"Venezuela\" OR \"Bermuda\" OR \"Canada\" OR \"Greenland\" OR \"Saint Pierre and Miquelon\" OR \"United States of America\" OR \"United States\" OR \"USA\" OR \"U.S.\" OR \"US\" OR \"Antarctica\" OR \"Kazakhstan\" OR \"Kyrgyzstan\" OR \"Tajikistan\" OR \"Turkmenistan\" OR \"Uzbekistan\" OR \"China\" OR \"Hong Kong\" OR \"Macao\" OR \"Democratic People\\'s Republic of Korea\" OR \"Japan\" OR \"Mongolia\" OR \"Korea\" OR \"Brunei Darussalam\" OR \"Cambodia\" OR \"Indonesia\" OR \"Lao People\\'s Democratic Republic\" OR \"Malaysia\" OR \"Myanmar\" OR \"Philippines\" OR \"Singapore\" OR \"Thailand\" OR \"Timor-Leste\" OR \"Viet Nam\" OR \"Vietnam\" OR \"Afghanistan\" OR \"Bangladesh\" OR \"Bhutan\" OR \"India\" OR \"Iran\" OR \"Maldives\" OR \"Nepal\" OR \"Pakistan\" OR \"Sri Lanka\" OR \"Armenia\" OR \"Azerbaijan\" OR \"Bahrain\" OR \"Cyprus\" OR \"Georgia\" OR \"Iraq\" OR \"Israel\" OR \"Jordan\" OR \"Kuwait\" OR \"Lebanon\" OR \"Oman\" OR \"Qatar\" OR \"Saudi Arabia\" OR \"Palestine\" OR \"Syria\" OR \"Turkey\" OR \"United Arab Emirates\" OR \"Yemen\" OR \"Belarus\" OR \"Bulgaria\" OR \"Czechia\" OR \"Hungary\" OR \"Poland\" OR \"Moldova\" OR \"Romania\" OR \"Russian Federation\" OR \"Russia\" OR \"Slovakia\" OR \"Ukraine\" OR \"Aland Islands\" OR \"Guernsey\" OR \"Jersey\" OR \"Sark\" OR \"Denmark\" OR \"Estonia\" OR \"Faroe Islands\" OR \"Finland\" OR \"Iceland\" OR \"Ireland\" OR \"Isle of Man\" OR \"Latvia\" OR \"Lithuania\" OR \"Norway\" OR \"Svalbard and Jan Mayen Islands\" OR \"Sweden\" OR \"United Kingdom of Great Britain and Northern Ireland\" OR \"United Kingdom\" OR \"Northern Ireland\" OR \"UK\" OR \"Albania\" OR \"Andorra\" OR \"Bosnia and Herzegovina\" OR \"Croatia\" OR \"Gibraltar\" OR \"Greece\" OR \"Holy See\" OR \"Italy\" OR \"Malta\" OR \"Montenegro\" OR \"North Macedonia\" OR \"Portugal\" OR \"San Marino\" OR \"Serbia\" OR \"Slovenia\" OR \"Spain\" OR \"Austria\" OR \"Belgium\" OR \"France\" OR \"Germany\" OR \"Liechtenstein\" OR \"Luxembourg\" OR \"Monaco\" OR \"Netherlands\" OR \"Switzerland\" OR \"Australia\" OR \"Christmas Island\" OR \"Cocos Islands\" OR \"Heard Island\" OR \"McDonald Islands\" OR \"New Zealand\" OR \"Norfolk Island\" OR \"Fiji\" OR \"New Caledonia\" OR \"Papua New Guinea\" OR \"Solomon Islands\" OR \"Vanuatu\" OR \"Guam\" OR \"Kiribati\" OR \"Marshall Islands\" OR \"Micronesia\" OR \"Nauru\" OR \"Northern Mariana Islands\" OR \"Palau\" OR \"United States Minor Outlying Islands\" OR \"American Samoa\" OR \"Cook Islands\" OR \"French Polynesia\" OR \"Niue\" OR \"Pitcairn\" OR \"Samoa\" OR \"Tokelau\" OR \"Tonga\" OR \"Tuvalu\" OR \"Wallis and Futuna Islands\") AND TS =(mitigation)'"
      ]
     },
     "execution_count": 4,
     "metadata": {},
     "output_type": "execute_result"
    }
   ],
   "source": [
    "wos_eq"
   ]
  },
  {
   "cell_type": "markdown",
   "metadata": {},
   "source": [
    "#### Equation on Scopus"
   ]
  },
  {
   "cell_type": "markdown",
   "metadata": {},
   "source": [
    "Follow the same process as on WoS with Scopus syntax "
   ]
  },
  {
   "cell_type": "code",
   "execution_count": 5,
   "metadata": {},
   "outputs": [],
   "source": [
    "scop_eq = 'TITLE('\n",
    "for country in countries_list[:-1]: \n",
    "    scop_eq += '\"'+ str(country)+ '\" OR '\n",
    "scop_eq += '\"' + str(countries_list[-1]) + '\") AND TITLE-ABS-KEY(mitigation)'"
   ]
  },
  {
   "cell_type": "markdown",
   "metadata": {},
   "source": [
    "Display equation to copy and paste it on Scopus: "
   ]
  },
  {
   "cell_type": "code",
   "execution_count": 6,
   "metadata": {},
   "outputs": [
    {
     "data": {
      "text/plain": [
       "'TITLE(\"Algeria\" OR \"Egypt\" OR \"Libya\" OR \"Morocco\" OR \"Sudan\" OR \"Tunisia\" OR \"Western Sahara\" OR \"British Indian Ocean Territory\" OR \"Burundi\" OR \"Comoros\" OR \"Djibouti\" OR \"Eritrea\" OR \"Ethiopia\" OR \"French Southern Territories\" OR \"Kenya\" OR \"Madagascar\" OR \"Malawi\" OR \"Mauritius\" OR \"Mayotte\" OR \"Mozambique\" OR \"Réunion\" OR \"Reunion\" OR \"Rwanda\" OR \"Seychelles\" OR \"Somalia\" OR \"South Sudan\" OR \"Uganda\" OR \"United Republic of Tanzania\" OR \"Tanzania\" OR \"Zambia\" OR \"Zimbabwe\" OR \"Angola\" OR \"Cameroon\" OR \"Central African Republic\" OR \"Chad\" OR \"Congo\" OR \"Democratic Republic of the Congo\" OR \"Equatorial Guinea\" OR \"Gabon\" OR \"Sao Tome and Principe\" OR \"Botswana\" OR \"Eswatini\" OR \"Lesotho\" OR \"Namibia\" OR \"South Africa\" OR \"Benin\" OR \"Burkina Faso\" OR \"Cabo Verde\" OR \"Côte d’Ivoire\" OR \"Ivory Coast\" OR \"Gambia\" OR \"Ghana\" OR \"Guinea\" OR \"Guinea-Bissau\" OR \"Liberia\" OR \"Mali\" OR \"Mauritania\" OR \"Niger\" OR \"Nigeria\" OR \"Saint Helena\" OR \"Senegal\" OR \"Sierra Leone\" OR \"Togo\" OR \"Anguilla\" OR \"Antigua and Barbuda\" OR \"Aruba\" OR \"Bahamas\" OR \"Barbados\" OR \"British Virgin Islands\" OR \"Cayman Islands\" OR \"Cuba\" OR \"Curaçao\" OR \"Dominica\" OR \"Dominican Republic\" OR \"Grenada\" OR \"Guadeloupe\" OR \"Haiti\" OR \"Jamaica\" OR \"Martinique\" OR \"Montserrat\" OR \"Puerto Rico\" OR \"Saint Barthélemy\" OR \"Saint Kitts and Nevis\" OR \"Saint Lucia\" OR \"Saint Martin\" OR \"Saint Vincent and the Grenadines\" OR \"Sint Maarten\" OR \"Trinidad and Tobago\" OR \"Turks and Caicos Islands\" OR \"United States Virgin Islands\" OR \"Belize\" OR \"Costa Rica\" OR \"El Salvador\" OR \"Guatemala\" OR \"Honduras\" OR \"Mexico\" OR \"Nicaragua\" OR \"Panama\" OR \"Argentina\" OR \"Bolivia\" OR \"Bouvet Island\" OR \"Brazil\" OR \"Chile\" OR \"Colombia\" OR \"Ecuador\" OR \"Falkland Islands\" OR \"French Guiana\" OR \"Guyana\" OR \"Paraguay\" OR \"Peru\" OR \"South Georgia and the South Sandwich Islands\" OR \"Suriname\" OR \"Uruguay\" OR \"Venezuela\" OR \"Bermuda\" OR \"Canada\" OR \"Greenland\" OR \"Saint Pierre and Miquelon\" OR \"United States of America\" OR \"United States\" OR \"USA\" OR \"U.S.\" OR \"US\" OR \"Antarctica\" OR \"Kazakhstan\" OR \"Kyrgyzstan\" OR \"Tajikistan\" OR \"Turkmenistan\" OR \"Uzbekistan\" OR \"China\" OR \"Hong Kong\" OR \"Macao\" OR \"Democratic People\\'s Republic of Korea\" OR \"Japan\" OR \"Mongolia\" OR \"Korea\" OR \"Brunei Darussalam\" OR \"Cambodia\" OR \"Indonesia\" OR \"Lao People\\'s Democratic Republic\" OR \"Malaysia\" OR \"Myanmar\" OR \"Philippines\" OR \"Singapore\" OR \"Thailand\" OR \"Timor-Leste\" OR \"Viet Nam\" OR \"Vietnam\" OR \"Afghanistan\" OR \"Bangladesh\" OR \"Bhutan\" OR \"India\" OR \"Iran\" OR \"Maldives\" OR \"Nepal\" OR \"Pakistan\" OR \"Sri Lanka\" OR \"Armenia\" OR \"Azerbaijan\" OR \"Bahrain\" OR \"Cyprus\" OR \"Georgia\" OR \"Iraq\" OR \"Israel\" OR \"Jordan\" OR \"Kuwait\" OR \"Lebanon\" OR \"Oman\" OR \"Qatar\" OR \"Saudi Arabia\" OR \"Palestine\" OR \"Syria\" OR \"Turkey\" OR \"United Arab Emirates\" OR \"Yemen\" OR \"Belarus\" OR \"Bulgaria\" OR \"Czechia\" OR \"Hungary\" OR \"Poland\" OR \"Moldova\" OR \"Romania\" OR \"Russian Federation\" OR \"Russia\" OR \"Slovakia\" OR \"Ukraine\" OR \"Aland Islands\" OR \"Guernsey\" OR \"Jersey\" OR \"Sark\" OR \"Denmark\" OR \"Estonia\" OR \"Faroe Islands\" OR \"Finland\" OR \"Iceland\" OR \"Ireland\" OR \"Isle of Man\" OR \"Latvia\" OR \"Lithuania\" OR \"Norway\" OR \"Svalbard and Jan Mayen Islands\" OR \"Sweden\" OR \"United Kingdom of Great Britain and Northern Ireland\" OR \"United Kingdom\" OR \"Northern Ireland\" OR \"UK\" OR \"Albania\" OR \"Andorra\" OR \"Bosnia and Herzegovina\" OR \"Croatia\" OR \"Gibraltar\" OR \"Greece\" OR \"Holy See\" OR \"Italy\" OR \"Malta\" OR \"Montenegro\" OR \"North Macedonia\" OR \"Portugal\" OR \"San Marino\" OR \"Serbia\" OR \"Slovenia\" OR \"Spain\" OR \"Austria\" OR \"Belgium\" OR \"France\" OR \"Germany\" OR \"Liechtenstein\" OR \"Luxembourg\" OR \"Monaco\" OR \"Netherlands\" OR \"Switzerland\" OR \"Australia\" OR \"Christmas Island\" OR \"Cocos Islands\" OR \"Heard Island\" OR \"McDonald Islands\" OR \"New Zealand\" OR \"Norfolk Island\" OR \"Fiji\" OR \"New Caledonia\" OR \"Papua New Guinea\" OR \"Solomon Islands\" OR \"Vanuatu\" OR \"Guam\" OR \"Kiribati\" OR \"Marshall Islands\" OR \"Micronesia\" OR \"Nauru\" OR \"Northern Mariana Islands\" OR \"Palau\" OR \"United States Minor Outlying Islands\" OR \"American Samoa\" OR \"Cook Islands\" OR \"French Polynesia\" OR \"Niue\" OR \"Pitcairn\" OR \"Samoa\" OR \"Tokelau\" OR \"Tonga\" OR \"Tuvalu\" OR \"Wallis and Futuna Islands\") AND TITLE-ABS-KEY(mitigation)'"
      ]
     },
     "execution_count": 6,
     "metadata": {},
     "output_type": "execute_result"
    }
   ],
   "source": [
    "scop_eq"
   ]
  },
  {
   "cell_type": "markdown",
   "metadata": {},
   "source": [
    "#### Add year topic constraint on WOS"
   ]
  },
  {
   "cell_type": "markdown",
   "metadata": {},
   "source": [
    "Create a year topic constraint following the country title constraint process but remplacing the countries list by a year list"
   ]
  },
  {
   "cell_type": "code",
   "execution_count": 7,
   "metadata": {},
   "outputs": [],
   "source": [
    "wos_eq += ' AND TS=(' \n",
    "for k in range (2025, 2050): \n",
    "    wos_eq += '\"'+ str(k)+ '\" OR '\n",
    "wos_eq += ' \"2050\")'"
   ]
  },
  {
   "cell_type": "markdown",
   "metadata": {},
   "source": [
    "Display equation to copy and paste it on WoS: "
   ]
  },
  {
   "cell_type": "code",
   "execution_count": 8,
   "metadata": {},
   "outputs": [
    {
     "data": {
      "text/plain": [
       "'TI=(\"Algeria\" OR \"Egypt\" OR \"Libya\" OR \"Morocco\" OR \"Sudan\" OR \"Tunisia\" OR \"Western Sahara\" OR \"British Indian Ocean Territory\" OR \"Burundi\" OR \"Comoros\" OR \"Djibouti\" OR \"Eritrea\" OR \"Ethiopia\" OR \"French Southern Territories\" OR \"Kenya\" OR \"Madagascar\" OR \"Malawi\" OR \"Mauritius\" OR \"Mayotte\" OR \"Mozambique\" OR \"Réunion\" OR \"Reunion\" OR \"Rwanda\" OR \"Seychelles\" OR \"Somalia\" OR \"South Sudan\" OR \"Uganda\" OR \"United Republic of Tanzania\" OR \"Tanzania\" OR \"Zambia\" OR \"Zimbabwe\" OR \"Angola\" OR \"Cameroon\" OR \"Central African Republic\" OR \"Chad\" OR \"Congo\" OR \"Democratic Republic of the Congo\" OR \"Equatorial Guinea\" OR \"Gabon\" OR \"Sao Tome and Principe\" OR \"Botswana\" OR \"Eswatini\" OR \"Lesotho\" OR \"Namibia\" OR \"South Africa\" OR \"Benin\" OR \"Burkina Faso\" OR \"Cabo Verde\" OR \"Côte d’Ivoire\" OR \"Ivory Coast\" OR \"Gambia\" OR \"Ghana\" OR \"Guinea\" OR \"Guinea-Bissau\" OR \"Liberia\" OR \"Mali\" OR \"Mauritania\" OR \"Niger\" OR \"Nigeria\" OR \"Saint Helena\" OR \"Senegal\" OR \"Sierra Leone\" OR \"Togo\" OR \"Anguilla\" OR \"Antigua and Barbuda\" OR \"Aruba\" OR \"Bahamas\" OR \"Barbados\" OR \"British Virgin Islands\" OR \"Cayman Islands\" OR \"Cuba\" OR \"Curaçao\" OR \"Dominica\" OR \"Dominican Republic\" OR \"Grenada\" OR \"Guadeloupe\" OR \"Haiti\" OR \"Jamaica\" OR \"Martinique\" OR \"Montserrat\" OR \"Puerto Rico\" OR \"Saint Barthélemy\" OR \"Saint Kitts and Nevis\" OR \"Saint Lucia\" OR \"Saint Martin\" OR \"Saint Vincent and the Grenadines\" OR \"Sint Maarten\" OR \"Trinidad and Tobago\" OR \"Turks and Caicos Islands\" OR \"United States Virgin Islands\" OR \"Belize\" OR \"Costa Rica\" OR \"El Salvador\" OR \"Guatemala\" OR \"Honduras\" OR \"Mexico\" OR \"Nicaragua\" OR \"Panama\" OR \"Argentina\" OR \"Bolivia\" OR \"Bouvet Island\" OR \"Brazil\" OR \"Chile\" OR \"Colombia\" OR \"Ecuador\" OR \"Falkland Islands\" OR \"French Guiana\" OR \"Guyana\" OR \"Paraguay\" OR \"Peru\" OR \"South Georgia and the South Sandwich Islands\" OR \"Suriname\" OR \"Uruguay\" OR \"Venezuela\" OR \"Bermuda\" OR \"Canada\" OR \"Greenland\" OR \"Saint Pierre and Miquelon\" OR \"United States of America\" OR \"United States\" OR \"USA\" OR \"U.S.\" OR \"US\" OR \"Antarctica\" OR \"Kazakhstan\" OR \"Kyrgyzstan\" OR \"Tajikistan\" OR \"Turkmenistan\" OR \"Uzbekistan\" OR \"China\" OR \"Hong Kong\" OR \"Macao\" OR \"Democratic People\\'s Republic of Korea\" OR \"Japan\" OR \"Mongolia\" OR \"Korea\" OR \"Brunei Darussalam\" OR \"Cambodia\" OR \"Indonesia\" OR \"Lao People\\'s Democratic Republic\" OR \"Malaysia\" OR \"Myanmar\" OR \"Philippines\" OR \"Singapore\" OR \"Thailand\" OR \"Timor-Leste\" OR \"Viet Nam\" OR \"Vietnam\" OR \"Afghanistan\" OR \"Bangladesh\" OR \"Bhutan\" OR \"India\" OR \"Iran\" OR \"Maldives\" OR \"Nepal\" OR \"Pakistan\" OR \"Sri Lanka\" OR \"Armenia\" OR \"Azerbaijan\" OR \"Bahrain\" OR \"Cyprus\" OR \"Georgia\" OR \"Iraq\" OR \"Israel\" OR \"Jordan\" OR \"Kuwait\" OR \"Lebanon\" OR \"Oman\" OR \"Qatar\" OR \"Saudi Arabia\" OR \"Palestine\" OR \"Syria\" OR \"Turkey\" OR \"United Arab Emirates\" OR \"Yemen\" OR \"Belarus\" OR \"Bulgaria\" OR \"Czechia\" OR \"Hungary\" OR \"Poland\" OR \"Moldova\" OR \"Romania\" OR \"Russian Federation\" OR \"Russia\" OR \"Slovakia\" OR \"Ukraine\" OR \"Aland Islands\" OR \"Guernsey\" OR \"Jersey\" OR \"Sark\" OR \"Denmark\" OR \"Estonia\" OR \"Faroe Islands\" OR \"Finland\" OR \"Iceland\" OR \"Ireland\" OR \"Isle of Man\" OR \"Latvia\" OR \"Lithuania\" OR \"Norway\" OR \"Svalbard and Jan Mayen Islands\" OR \"Sweden\" OR \"United Kingdom of Great Britain and Northern Ireland\" OR \"United Kingdom\" OR \"Northern Ireland\" OR \"UK\" OR \"Albania\" OR \"Andorra\" OR \"Bosnia and Herzegovina\" OR \"Croatia\" OR \"Gibraltar\" OR \"Greece\" OR \"Holy See\" OR \"Italy\" OR \"Malta\" OR \"Montenegro\" OR \"North Macedonia\" OR \"Portugal\" OR \"San Marino\" OR \"Serbia\" OR \"Slovenia\" OR \"Spain\" OR \"Austria\" OR \"Belgium\" OR \"France\" OR \"Germany\" OR \"Liechtenstein\" OR \"Luxembourg\" OR \"Monaco\" OR \"Netherlands\" OR \"Switzerland\" OR \"Australia\" OR \"Christmas Island\" OR \"Cocos Islands\" OR \"Heard Island\" OR \"McDonald Islands\" OR \"New Zealand\" OR \"Norfolk Island\" OR \"Fiji\" OR \"New Caledonia\" OR \"Papua New Guinea\" OR \"Solomon Islands\" OR \"Vanuatu\" OR \"Guam\" OR \"Kiribati\" OR \"Marshall Islands\" OR \"Micronesia\" OR \"Nauru\" OR \"Northern Mariana Islands\" OR \"Palau\" OR \"United States Minor Outlying Islands\" OR \"American Samoa\" OR \"Cook Islands\" OR \"French Polynesia\" OR \"Niue\" OR \"Pitcairn\" OR \"Samoa\" OR \"Tokelau\" OR \"Tonga\" OR \"Tuvalu\" OR \"Wallis and Futuna Islands\") AND TS =(mitigation) AND TS=(\"2025\" OR \"2026\" OR \"2027\" OR \"2028\" OR \"2029\" OR \"2030\" OR \"2031\" OR \"2032\" OR \"2033\" OR \"2034\" OR \"2035\" OR \"2036\" OR \"2037\" OR \"2038\" OR \"2039\" OR \"2040\" OR \"2041\" OR \"2042\" OR \"2043\" OR \"2044\" OR \"2045\" OR \"2046\" OR \"2047\" OR \"2048\" OR \"2049\" OR  \"2050\")'"
      ]
     },
     "execution_count": 8,
     "metadata": {},
     "output_type": "execute_result"
    }
   ],
   "source": [
    "wos_eq"
   ]
  },
  {
   "cell_type": "markdown",
   "metadata": {},
   "source": [
    "#### Add year search on Scopus"
   ]
  },
  {
   "cell_type": "markdown",
   "metadata": {},
   "source": [
    "Follow the same process as on WoS with Scopus syntax"
   ]
  },
  {
   "cell_type": "code",
   "execution_count": 9,
   "metadata": {},
   "outputs": [],
   "source": [
    "scop_eq += ' AND TITLE-ABS-KEY(' \n",
    "for k in range (2025, 2050): \n",
    "    scop_eq += '\"'+ str(k)+ '\" OR '\n",
    "scop_eq += ' \"2050\")'"
   ]
  },
  {
   "cell_type": "markdown",
   "metadata": {},
   "source": [
    "Display equation to copy and paste it on Scopus: "
   ]
  },
  {
   "cell_type": "code",
   "execution_count": 10,
   "metadata": {},
   "outputs": [
    {
     "data": {
      "text/plain": [
       "'TITLE(\"Algeria\" OR \"Egypt\" OR \"Libya\" OR \"Morocco\" OR \"Sudan\" OR \"Tunisia\" OR \"Western Sahara\" OR \"British Indian Ocean Territory\" OR \"Burundi\" OR \"Comoros\" OR \"Djibouti\" OR \"Eritrea\" OR \"Ethiopia\" OR \"French Southern Territories\" OR \"Kenya\" OR \"Madagascar\" OR \"Malawi\" OR \"Mauritius\" OR \"Mayotte\" OR \"Mozambique\" OR \"Réunion\" OR \"Reunion\" OR \"Rwanda\" OR \"Seychelles\" OR \"Somalia\" OR \"South Sudan\" OR \"Uganda\" OR \"United Republic of Tanzania\" OR \"Tanzania\" OR \"Zambia\" OR \"Zimbabwe\" OR \"Angola\" OR \"Cameroon\" OR \"Central African Republic\" OR \"Chad\" OR \"Congo\" OR \"Democratic Republic of the Congo\" OR \"Equatorial Guinea\" OR \"Gabon\" OR \"Sao Tome and Principe\" OR \"Botswana\" OR \"Eswatini\" OR \"Lesotho\" OR \"Namibia\" OR \"South Africa\" OR \"Benin\" OR \"Burkina Faso\" OR \"Cabo Verde\" OR \"Côte d’Ivoire\" OR \"Ivory Coast\" OR \"Gambia\" OR \"Ghana\" OR \"Guinea\" OR \"Guinea-Bissau\" OR \"Liberia\" OR \"Mali\" OR \"Mauritania\" OR \"Niger\" OR \"Nigeria\" OR \"Saint Helena\" OR \"Senegal\" OR \"Sierra Leone\" OR \"Togo\" OR \"Anguilla\" OR \"Antigua and Barbuda\" OR \"Aruba\" OR \"Bahamas\" OR \"Barbados\" OR \"British Virgin Islands\" OR \"Cayman Islands\" OR \"Cuba\" OR \"Curaçao\" OR \"Dominica\" OR \"Dominican Republic\" OR \"Grenada\" OR \"Guadeloupe\" OR \"Haiti\" OR \"Jamaica\" OR \"Martinique\" OR \"Montserrat\" OR \"Puerto Rico\" OR \"Saint Barthélemy\" OR \"Saint Kitts and Nevis\" OR \"Saint Lucia\" OR \"Saint Martin\" OR \"Saint Vincent and the Grenadines\" OR \"Sint Maarten\" OR \"Trinidad and Tobago\" OR \"Turks and Caicos Islands\" OR \"United States Virgin Islands\" OR \"Belize\" OR \"Costa Rica\" OR \"El Salvador\" OR \"Guatemala\" OR \"Honduras\" OR \"Mexico\" OR \"Nicaragua\" OR \"Panama\" OR \"Argentina\" OR \"Bolivia\" OR \"Bouvet Island\" OR \"Brazil\" OR \"Chile\" OR \"Colombia\" OR \"Ecuador\" OR \"Falkland Islands\" OR \"French Guiana\" OR \"Guyana\" OR \"Paraguay\" OR \"Peru\" OR \"South Georgia and the South Sandwich Islands\" OR \"Suriname\" OR \"Uruguay\" OR \"Venezuela\" OR \"Bermuda\" OR \"Canada\" OR \"Greenland\" OR \"Saint Pierre and Miquelon\" OR \"United States of America\" OR \"United States\" OR \"USA\" OR \"U.S.\" OR \"US\" OR \"Antarctica\" OR \"Kazakhstan\" OR \"Kyrgyzstan\" OR \"Tajikistan\" OR \"Turkmenistan\" OR \"Uzbekistan\" OR \"China\" OR \"Hong Kong\" OR \"Macao\" OR \"Democratic People\\'s Republic of Korea\" OR \"Japan\" OR \"Mongolia\" OR \"Korea\" OR \"Brunei Darussalam\" OR \"Cambodia\" OR \"Indonesia\" OR \"Lao People\\'s Democratic Republic\" OR \"Malaysia\" OR \"Myanmar\" OR \"Philippines\" OR \"Singapore\" OR \"Thailand\" OR \"Timor-Leste\" OR \"Viet Nam\" OR \"Vietnam\" OR \"Afghanistan\" OR \"Bangladesh\" OR \"Bhutan\" OR \"India\" OR \"Iran\" OR \"Maldives\" OR \"Nepal\" OR \"Pakistan\" OR \"Sri Lanka\" OR \"Armenia\" OR \"Azerbaijan\" OR \"Bahrain\" OR \"Cyprus\" OR \"Georgia\" OR \"Iraq\" OR \"Israel\" OR \"Jordan\" OR \"Kuwait\" OR \"Lebanon\" OR \"Oman\" OR \"Qatar\" OR \"Saudi Arabia\" OR \"Palestine\" OR \"Syria\" OR \"Turkey\" OR \"United Arab Emirates\" OR \"Yemen\" OR \"Belarus\" OR \"Bulgaria\" OR \"Czechia\" OR \"Hungary\" OR \"Poland\" OR \"Moldova\" OR \"Romania\" OR \"Russian Federation\" OR \"Russia\" OR \"Slovakia\" OR \"Ukraine\" OR \"Aland Islands\" OR \"Guernsey\" OR \"Jersey\" OR \"Sark\" OR \"Denmark\" OR \"Estonia\" OR \"Faroe Islands\" OR \"Finland\" OR \"Iceland\" OR \"Ireland\" OR \"Isle of Man\" OR \"Latvia\" OR \"Lithuania\" OR \"Norway\" OR \"Svalbard and Jan Mayen Islands\" OR \"Sweden\" OR \"United Kingdom of Great Britain and Northern Ireland\" OR \"United Kingdom\" OR \"Northern Ireland\" OR \"UK\" OR \"Albania\" OR \"Andorra\" OR \"Bosnia and Herzegovina\" OR \"Croatia\" OR \"Gibraltar\" OR \"Greece\" OR \"Holy See\" OR \"Italy\" OR \"Malta\" OR \"Montenegro\" OR \"North Macedonia\" OR \"Portugal\" OR \"San Marino\" OR \"Serbia\" OR \"Slovenia\" OR \"Spain\" OR \"Austria\" OR \"Belgium\" OR \"France\" OR \"Germany\" OR \"Liechtenstein\" OR \"Luxembourg\" OR \"Monaco\" OR \"Netherlands\" OR \"Switzerland\" OR \"Australia\" OR \"Christmas Island\" OR \"Cocos Islands\" OR \"Heard Island\" OR \"McDonald Islands\" OR \"New Zealand\" OR \"Norfolk Island\" OR \"Fiji\" OR \"New Caledonia\" OR \"Papua New Guinea\" OR \"Solomon Islands\" OR \"Vanuatu\" OR \"Guam\" OR \"Kiribati\" OR \"Marshall Islands\" OR \"Micronesia\" OR \"Nauru\" OR \"Northern Mariana Islands\" OR \"Palau\" OR \"United States Minor Outlying Islands\" OR \"American Samoa\" OR \"Cook Islands\" OR \"French Polynesia\" OR \"Niue\" OR \"Pitcairn\" OR \"Samoa\" OR \"Tokelau\" OR \"Tonga\" OR \"Tuvalu\" OR \"Wallis and Futuna Islands\") AND TITLE-ABS-KEY(mitigation) AND TITLE-ABS-KEY(\"2025\" OR \"2026\" OR \"2027\" OR \"2028\" OR \"2029\" OR \"2030\" OR \"2031\" OR \"2032\" OR \"2033\" OR \"2034\" OR \"2035\" OR \"2036\" OR \"2037\" OR \"2038\" OR \"2039\" OR \"2040\" OR \"2041\" OR \"2042\" OR \"2043\" OR \"2044\" OR \"2045\" OR \"2046\" OR \"2047\" OR \"2048\" OR \"2049\" OR  \"2050\")'"
      ]
     },
     "execution_count": 10,
     "metadata": {},
     "output_type": "execute_result"
    }
   ],
   "source": [
    "scop_eq"
   ]
  }
 ],
 "metadata": {
  "kernelspec": {
   "display_name": "Python 3",
   "language": "python",
   "name": "python3"
  },
  "language_info": {
   "codemirror_mode": {
    "name": "ipython",
    "version": 3
   },
   "file_extension": ".py",
   "mimetype": "text/x-python",
   "name": "python",
   "nbconvert_exporter": "python",
   "pygments_lexer": "ipython3",
   "version": "3.5.2"
  }
 },
 "nbformat": 4,
 "nbformat_minor": 2
}
