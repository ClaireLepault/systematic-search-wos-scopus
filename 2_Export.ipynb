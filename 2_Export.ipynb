{
 "cells": [
  {
   "cell_type": "markdown",
   "metadata": {},
   "source": [
    "# Systematic search on Web of Science and Scopus"
   ]
  },
  {
   "cell_type": "markdown",
   "metadata": {},
   "source": [
    "## II. Exporting the databases "
   ]
  },
  {
   "cell_type": "markdown",
   "metadata": {},
   "source": [
    "As required by Chapter 13, we will create the database corresponding to the following search equations:\n",
    "\n",
    "On WoS : \n",
    "\n",
    "TS = ((\"environment\" OR \"enabling condition*\") AND (\"greenhouse gas reduct$^*$\" OR decarboni?ation OR \"climate change mitigation\"))\n",
    "\n",
    "On Scopus :\n",
    "\n",
    "TITLE-ABS-KEY ( ( \"environment\"  OR  \"enabling condition*\" )  AND  ( \"greenhouse gas reduct$^*$\"  OR  decarboni?ation  OR  \"climate change mitigation\" ) )"
   ]
  },
  {
   "cell_type": "markdown",
   "metadata": {},
   "source": [
    "### II.A On the websites"
   ]
  },
  {
   "cell_type": "markdown",
   "metadata": {},
   "source": [
    "For both WoS and Scopus, select the **Advanced search** mode\n",
    "\n",
    "On **WoS**, click on the **\"All databases\"** cursor to observe as many papers as possible :"
   ]
  },
  {
   "cell_type": "markdown",
   "metadata": {},
   "source": [
    "<tr>\n",
    "    <td> <img src=\"img/WOS_search.png\" width = \"500\"/> </td>\n",
    "    <td> <img src=\"img/Scopus_search.png\" width = \"500\"/> </td>\n",
    "</tr>"
   ]
  },
  {
   "cell_type": "markdown",
   "metadata": {},
   "source": [
    "#### Storing records from WoS"
   ]
  },
  {
   "cell_type": "markdown",
   "metadata": {},
   "source": [
    "WoS does not impose limits on the number of data that can be saved, however, they can only be saved in batchs of 500. When the search equation leads to thousands of results, it may be a little tedious but it will very rarely take an hour or more to download these results. "
   ]
  },
  {
   "cell_type": "markdown",
   "metadata": {},
   "source": [
    "**1.** Click on the **Add to Marked List** button\n",
    "\n",
    "**2.** Add all the records to the Marked List with the second option\n",
    "\n",
    "**3.** Go to the Marked List"
   ]
  },
  {
   "cell_type": "markdown",
   "metadata": {},
   "source": [
    "<tr>\n",
    "    <td> 1. <img src=\"img/WOS1_marked_list_selec.png\" width = \"500\"/> </td>\n",
    "    <td> 2. <img src=\"img/WOS2_marked_list_details.png\" width = \"500\"/> </td>\n",
    "    <td> 3. <img src=\"img/WOS3_go_marked_list.png\" width = \"500\"/> </td>\n",
    "</tr>"
   ]
  },
  {
   "cell_type": "markdown",
   "metadata": {},
   "source": [
    "**4.** Create folders on your computer to store all the records in a systematic way"
   ]
  },
  {
   "cell_type": "markdown",
   "metadata": {},
   "source": [
    "<tr>\n",
    "    <td> <img src=\"img/WOS_databases_folders.png\" width = \"400\"/> </td>\n",
    "    <td> <img src=\"img/WOS_folders.png\" width = \"250\"/> </td>\n",
    "</tr>"
   ]
  },
  {
   "cell_type": "markdown",
   "metadata": {},
   "source": [
    "**5.** Before to start downloading data, think about the nomenclature of each batch  :<br>\n",
    "I find useful to take the nomenclature \"savedrecs0.txt\", \"savedrecs1.txt\", \"savedrecs2.txt\"... inside each database folder <br>\n",
    "We will see afterwards the advantages of this with python"
   ]
  },
  {
   "cell_type": "markdown",
   "metadata": {},
   "source": [
    "<tr>\n",
    "    <td>  <img src=\"img/WOS_folders_All_databases.png\" width = \"500\"/> </td>\n",
    "    <td>  <img src=\"img/WOS_folders_core_collection.png\" width = \"500\"/> </td>\n",
    "    <td>  <img src=\"img/WOS_folders_MEDLINE.png\" width = \"300\"/> </td>\n",
    "</tr>"
   ]
  },
  {
   "cell_type": "markdown",
   "metadata": {},
   "source": [
    "**6.** Export all records by batch of 500 publications and choose the **Other File Formats** option\n",
    "\n",
    "**7.** Select the **Tab-delimited Mac, UTF-8** format\n",
    "\n",
    "**8.** Rename the downloaded file and sort it in the corresponding database folder\n",
    "\n",
    "**9.** Repet the process for each batch from each database\n",
    "\n",
    "**Actually, we download first the database which contains all the publications but little information on each (e.g. authors keywords) and all the other databases afterwards because they contain much more information on each of the publications**"
   ]
  },
  {
   "cell_type": "markdown",
   "metadata": {},
   "source": [
    "<tr>\n",
    "    <td> 6. <img src=\"img/WOS4_export_batch1.png\" width = \"500\"/> </td>\n",
    "    <td> 7. <img src=\"img/WOS5_export_batch1_details.png\" width = \"500\"/> </td>\n",
    "</tr>"
   ]
  },
  {
   "cell_type": "markdown",
   "metadata": {},
   "source": [
    "#### Storing records from Scopus"
   ]
  },
  {
   "cell_type": "markdown",
   "metadata": {},
   "source": [
    "Contrary to WoS, Scopus imposes limits on the number of data that can be saved. Actually, the recording can not exceed 2000 publication per search equation. \n",
    "\n",
    "To download all the results, it is then necessary to divide the search equation into several equations with more constraints so as not to exceed the 2000 results. The equations overlap is not a problem, we will then see how to merge the sub-databases to avoid duplicates. \n",
    "\n",
    "Here, we have only 1166 results so we don't have to divide the search equation to record all of these ones. "
   ]
  },
  {
   "cell_type": "markdown",
   "metadata": {},
   "source": [
    "**1.** Select **All** results and click on the **Export** button\n",
    "\n",
    "**2.** Select all the information available and export results in **CSV** format"
   ]
  },
  {
   "cell_type": "markdown",
   "metadata": {},
   "source": [
    "<tr>\n",
    "    <td> 1. <img src=\"img/Scopus_export.png\" width = \"550\"/> </td>\n",
    "    <td> 2. <img src=\"img/Scopus_export_details.png\" width = \"500\"/> </td>\n",
    "</tr>"
   ]
  },
  {
   "cell_type": "markdown",
   "metadata": {},
   "source": [
    "By symetry with WOS folders, store the downloaded file in a *SCOPUS* folder as *scopus0.csv*"
   ]
  },
  {
   "cell_type": "markdown",
   "metadata": {},
   "source": [
    "### II.B Merging the sub-databases from WoS\n",
    "\n",
    "Import Python librairies needed for merging and saving data:"
   ]
  },
  {
   "cell_type": "code",
   "execution_count": 1,
   "metadata": {},
   "outputs": [],
   "source": [
    "import pandas as pd \n",
    "import numpy as np\n",
    "import joblib"
   ]
  },
  {
   "cell_type": "markdown",
   "metadata": {},
   "source": [
    "#### Concatenate records from databases folders containing multiple files\n",
    "\n",
    "Define concatenation function with two arguments :\n",
    "\n",
    "* *wos_database* the name of the database folder\n",
    "* *n* the number of files in the database folder"
   ]
  },
  {
   "cell_type": "code",
   "execution_count": 2,
   "metadata": {},
   "outputs": [],
   "source": [
    "def concat_wos(wos_database_folder,n):\n",
    "    mainpath= \"./Exported/WOS/\" + wos_database_folder + \"/savedrecs\"\n",
    "    frames =[]\n",
    "    for k in range(n): \n",
    "        file = mainpath + str(k) +\".txt\"\n",
    "        df = pd.read_csv(file, sep = '\\t', header = 0, index_col=False)\n",
    "        frames.append(df)  \n",
    "    Df = pd.concat(frames, sort=False)    \n",
    "    return(Df)"
   ]
  },
  {
   "cell_type": "markdown",
   "metadata": {},
   "source": [
    "Concatenate files from \"All_databases\" : <br> \n",
    "(There are only **2** batchs of 500 publications recorded for this search equation, so just make the concatenation for these ones)"
   ]
  },
  {
   "cell_type": "code",
   "execution_count": 3,
   "metadata": {},
   "outputs": [
    {
     "name": "stdout",
     "output_type": "stream",
     "text": [
      "1000 X 57 dataframe\n"
     ]
    }
   ],
   "source": [
    "all_databases_folder = \"All_databases\"\n",
    "df_wos = concat_wos(all_databases_folder, 2)\n",
    "print(\"%d X %d dataframe\" % (len(df_wos), len(df_wos.columns) ))"
   ]
  },
  {
   "cell_type": "markdown",
   "metadata": {},
   "source": [
    "Create a column in the file from \"All_databases\" that will contain authors keywords : "
   ]
  },
  {
   "cell_type": "code",
   "execution_count": 4,
   "metadata": {},
   "outputs": [],
   "source": [
    "df_wos[\"DE\"] = np.nan"
   ]
  },
  {
   "cell_type": "markdown",
   "metadata": {},
   "source": [
    "Concatenate batchs from \"Core_collection\" :"
   ]
  },
  {
   "cell_type": "code",
   "execution_count": 5,
   "metadata": {},
   "outputs": [
    {
     "name": "stdout",
     "output_type": "stream",
     "text": [
      "945 X 67 dataframe\n"
     ]
    }
   ],
   "source": [
    "core_collection_folder = \"Core_collection\"\n",
    "df1 = concat_wos(core_collection_folder, 2)\n",
    "print(\"%d X %d dataframe\" % (len(df1), len(df1.columns) ))"
   ]
  },
  {
   "cell_type": "markdown",
   "metadata": {},
   "source": [
    "#### Read records from databases which contain only one file"
   ]
  },
  {
   "cell_type": "code",
   "execution_count": 6,
   "metadata": {},
   "outputs": [],
   "source": [
    "df2 = pd.read_csv(\"./Exported/WOS/Current_Contents_Connect/savedrecs0.txt\", sep = '\\t', header = 0, index_col=False)\n",
    "df3 = pd.read_csv(\"./Exported/WOS/KCI-Korean/savedrecs0.txt\", sep = '\\t', header = 0, index_col=False)\n",
    "df4 = pd.read_csv(\"./Exported/WOS/MEDLINE/savedrecs0.txt\", sep = '\\t', header = 0, index_col=False)\n",
    "df5 = pd.read_csv(\"./Exported/WOS/Russian_Science/savedrecs0.txt\", sep = '\\t', header = 0, index_col=False)\n",
    "df6 = pd.read_csv(\"./Exported/WOS/SciELO/savedrecs0.txt\", sep = '\\t', header = 0, index_col=False)"
   ]
  },
  {
   "cell_type": "markdown",
   "metadata": {},
   "source": [
    "#### Merge all information from the different databases to the one that contains all the publications\n",
    "\n",
    "Take the WoS ID number (*UT*) as index to make the merge : "
   ]
  },
  {
   "cell_type": "code",
   "execution_count": 7,
   "metadata": {},
   "outputs": [],
   "source": [
    "df_wos.set_index(\"UT\", inplace = True)\n",
    "df1.set_index(\"UT\", inplace = True)\n",
    "df2.set_index(\"UT\", inplace = True)\n",
    "df3.set_index(\"UT\", inplace = True)\n",
    "df4.set_index(\"UT\", inplace = True)\n",
    "df5.set_index(\"UT\", inplace = True)\n",
    "df6.set_index(\"UT\", inplace = True)"
   ]
  },
  {
   "cell_type": "markdown",
   "metadata": {},
   "source": [
    "Update the database containing all the papers with the 6 databases on which WoS is based :"
   ]
  },
  {
   "cell_type": "code",
   "execution_count": 8,
   "metadata": {},
   "outputs": [],
   "source": [
    "df_wos.update(df1)\n",
    "df_wos.update(df2)\n",
    "df_wos.update(df3)\n",
    "df_wos.update(df4)\n",
    "df_wos.update(df5)\n",
    "df_wos.update(df6)"
   ]
  },
  {
   "cell_type": "code",
   "execution_count": 9,
   "metadata": {},
   "outputs": [],
   "source": [
    "df_wos.reset_index(0, inplace =True)"
   ]
  },
  {
   "cell_type": "markdown",
   "metadata": {},
   "source": [
    "#### Rename columns to have same names for WoS and Scopus databases\n",
    "\n",
    "(You can find original names of WoS columns [here](https://images.webofknowledge.com/images/help/WOS/hs_wos_fieldtags.html) )"
   ]
  },
  {
   "cell_type": "code",
   "execution_count": 10,
   "metadata": {},
   "outputs": [],
   "source": [
    "df_wos.rename(columns ={'UT': 'WOS_number'}, inplace=True)\n",
    "df_wos.rename(columns ={'TI': 'title'}, inplace=True)\n",
    "df_wos.rename(columns ={'AU': 'authors'}, inplace=True)\n",
    "df_wos.rename(columns ={'SO': 'source'}, inplace=True)\n",
    "df_wos.rename(columns ={'DI': 'doi'}, inplace=True)\n",
    "df_wos.rename(columns ={'PY': 'publication_year'}, inplace=True)\n",
    "df_wos.rename(columns ={'AB': 'abstract'}, inplace=True)\n",
    "df_wos.rename(columns ={'DE': 'author_keywords'}, inplace=True)"
   ]
  },
  {
   "cell_type": "markdown",
   "metadata": {},
   "source": [
    "#### Select only the renamed columns "
   ]
  },
  {
   "cell_type": "code",
   "execution_count": 11,
   "metadata": {},
   "outputs": [
    {
     "data": {
      "text/html": [
       "<div>\n",
       "<style scoped>\n",
       "    .dataframe tbody tr th:only-of-type {\n",
       "        vertical-align: middle;\n",
       "    }\n",
       "\n",
       "    .dataframe tbody tr th {\n",
       "        vertical-align: top;\n",
       "    }\n",
       "\n",
       "    .dataframe thead th {\n",
       "        text-align: right;\n",
       "    }\n",
       "</style>\n",
       "<table border=\"1\" class=\"dataframe\">\n",
       "  <thead>\n",
       "    <tr style=\"text-align: right;\">\n",
       "      <th></th>\n",
       "      <th>WOS_number</th>\n",
       "      <th>title</th>\n",
       "      <th>authors</th>\n",
       "      <th>source</th>\n",
       "      <th>doi</th>\n",
       "      <th>publication_year</th>\n",
       "      <th>abstract</th>\n",
       "      <th>author_keywords</th>\n",
       "    </tr>\n",
       "  </thead>\n",
       "  <tbody>\n",
       "    <tr>\n",
       "      <th>0</th>\n",
       "      <td>WOS:000491647400001</td>\n",
       "      <td>Cultural Lock-in and Mitigating Greenhouse Gas...</td>\n",
       "      <td>Burton, RJF; Farstad, M</td>\n",
       "      <td>SOCIOLOGIA RURALIS</td>\n",
       "      <td>10.1111/soru.12277</td>\n",
       "      <td>2019.0</td>\n",
       "      <td>Meeting targets for reducing greenhouse gas em...</td>\n",
       "      <td>NaN</td>\n",
       "    </tr>\n",
       "    <tr>\n",
       "      <th>1</th>\n",
       "      <td>WOS:000482491500071</td>\n",
       "      <td>Unpacking the determinants of cross-border pri...</td>\n",
       "      <td>Ragosa, G; Warren, P</td>\n",
       "      <td>JOURNAL OF CLEANER PRODUCTION</td>\n",
       "      <td>10.1016/j.jclepro.2019.06.166</td>\n",
       "      <td>2019.0</td>\n",
       "      <td>Private finance has emerged as a fundamental c...</td>\n",
       "      <td>Renewable energy; Developing countries; Climat...</td>\n",
       "    </tr>\n",
       "    <tr>\n",
       "      <th>2</th>\n",
       "      <td>WOS:000481589100039</td>\n",
       "      <td>Effects of urbanization on winter wind chill c...</td>\n",
       "      <td>Lin, LJ; Luo, M; Chan, TO; Ge, EJ; Liu, XP; Zh...</td>\n",
       "      <td>SCIENCE OF THE TOTAL ENVIRONMENT</td>\n",
       "      <td>10.1016/j.scitotenv.2019.06.145</td>\n",
       "      <td>2019.0</td>\n",
       "      <td>Human-perceived wind chill describes the combi...</td>\n",
       "      <td>Wind chill; Human perceived temperature; Urban...</td>\n",
       "    </tr>\n",
       "    <tr>\n",
       "      <th>3</th>\n",
       "      <td>WOS:000489349300001</td>\n",
       "      <td>A life-cycle assessment model for zero emissio...</td>\n",
       "      <td>Lausselet, C; Ellingsen, LAW; Stromman, AH; Br...</td>\n",
       "      <td>JOURNAL OF INDUSTRIAL ECOLOGY</td>\n",
       "      <td>10.1111/jiec.12960</td>\n",
       "      <td>2019.0</td>\n",
       "      <td>Buildings represent a critical piece of a low-...</td>\n",
       "      <td>buildings; built environment; functional unit;...</td>\n",
       "    </tr>\n",
       "    <tr>\n",
       "      <th>4</th>\n",
       "      <td>WOS:000483406000045</td>\n",
       "      <td>Integrated sustainability assessment for a bio...</td>\n",
       "      <td>Jin, E; Mendis, GP; Sutherland, JW</td>\n",
       "      <td>JOURNAL OF CLEANER PRODUCTION</td>\n",
       "      <td>10.1016/j.jclepro.2019.06.205</td>\n",
       "      <td>2019.0</td>\n",
       "      <td>Cellulosic biofuels produced from energy crops...</td>\n",
       "      <td>Sustainability; System dynamics; Bioenergy sys...</td>\n",
       "    </tr>\n",
       "  </tbody>\n",
       "</table>\n",
       "</div>"
      ],
      "text/plain": [
       "            WOS_number                                              title  \\\n",
       "0  WOS:000491647400001  Cultural Lock-in and Mitigating Greenhouse Gas...   \n",
       "1  WOS:000482491500071  Unpacking the determinants of cross-border pri...   \n",
       "2  WOS:000481589100039  Effects of urbanization on winter wind chill c...   \n",
       "3  WOS:000489349300001  A life-cycle assessment model for zero emissio...   \n",
       "4  WOS:000483406000045  Integrated sustainability assessment for a bio...   \n",
       "\n",
       "                                             authors  \\\n",
       "0                            Burton, RJF; Farstad, M   \n",
       "1                               Ragosa, G; Warren, P   \n",
       "2  Lin, LJ; Luo, M; Chan, TO; Ge, EJ; Liu, XP; Zh...   \n",
       "3  Lausselet, C; Ellingsen, LAW; Stromman, AH; Br...   \n",
       "4                 Jin, E; Mendis, GP; Sutherland, JW   \n",
       "\n",
       "                             source                              doi  \\\n",
       "0                SOCIOLOGIA RURALIS               10.1111/soru.12277   \n",
       "1     JOURNAL OF CLEANER PRODUCTION    10.1016/j.jclepro.2019.06.166   \n",
       "2  SCIENCE OF THE TOTAL ENVIRONMENT  10.1016/j.scitotenv.2019.06.145   \n",
       "3     JOURNAL OF INDUSTRIAL ECOLOGY               10.1111/jiec.12960   \n",
       "4     JOURNAL OF CLEANER PRODUCTION    10.1016/j.jclepro.2019.06.205   \n",
       "\n",
       "   publication_year                                           abstract  \\\n",
       "0            2019.0  Meeting targets for reducing greenhouse gas em...   \n",
       "1            2019.0  Private finance has emerged as a fundamental c...   \n",
       "2            2019.0  Human-perceived wind chill describes the combi...   \n",
       "3            2019.0  Buildings represent a critical piece of a low-...   \n",
       "4            2019.0  Cellulosic biofuels produced from energy crops...   \n",
       "\n",
       "                                     author_keywords  \n",
       "0                                                NaN  \n",
       "1  Renewable energy; Developing countries; Climat...  \n",
       "2  Wind chill; Human perceived temperature; Urban...  \n",
       "3  buildings; built environment; functional unit;...  \n",
       "4  Sustainability; System dynamics; Bioenergy sys...  "
      ]
     },
     "execution_count": 11,
     "metadata": {},
     "output_type": "execute_result"
    }
   ],
   "source": [
    "col=['WOS_number','title','authors','source','doi','publication_year','abstract','author_keywords']\n",
    "df_wos = df_wos.reindex(columns=col)\n",
    "df_wos.head()"
   ]
  },
  {
   "cell_type": "markdown",
   "metadata": {},
   "source": [
    "### II.C Fusion of the sub-databases from Scopus"
   ]
  },
  {
   "cell_type": "markdown",
   "metadata": {},
   "source": [
    "We don't need a fusion function for Scopus in this case because the search equation led to less than 2000 publications. However, if we had to find more constrained equations, it would have been very usefull. **So let do as if we had to deal with sub-databases from Scopus to learn how to delete duplicates:** "
   ]
  },
  {
   "cell_type": "markdown",
   "metadata": {},
   "source": [
    "#### Concatenate the records from each equation\n",
    "\n",
    "Define concatenation function with one argument:\n",
    " * *n* the number of files in the SCOPUS folder"
   ]
  },
  {
   "cell_type": "code",
   "execution_count": 12,
   "metadata": {},
   "outputs": [],
   "source": [
    "def fusion_scop(n):\n",
    "    mainpath= \"./Exported/SCOPUS/scopus\"\n",
    "    frames =[]\n",
    "    for k in range(n): \n",
    "        file = mainpath + str(k) +\".csv\"\n",
    "        df = pd.read_csv(file)\n",
    "        frames.append(df)  \n",
    "    Df = pd.concat(frames, sort=False)    \n",
    "    return(Df)"
   ]
  },
  {
   "cell_type": "markdown",
   "metadata": {},
   "source": [
    "Concatenate the files :"
   ]
  },
  {
   "cell_type": "code",
   "execution_count": 13,
   "metadata": {},
   "outputs": [
    {
     "name": "stdout",
     "output_type": "stream",
     "text": [
      "1166 X 53 dataframe\n"
     ]
    }
   ],
   "source": [
    "df_scop = fusion_scop(1)\n",
    "print(\"%d X %d dataframe\" % (len(df_scop), len(df_scop.columns) ))"
   ]
  },
  {
   "cell_type": "markdown",
   "metadata": {},
   "source": [
    "#### Use the Scopus ID as a key to delete duplicates (if there are different sub-databases, which is not the case here)"
   ]
  },
  {
   "cell_type": "code",
   "execution_count": 14,
   "metadata": {},
   "outputs": [
    {
     "name": "stdout",
     "output_type": "stream",
     "text": [
      "1166 X 53 dataframe\n"
     ]
    }
   ],
   "source": [
    "df_scopus = df_scop.groupby(['EID']).last().reset_index()\n",
    "print(\"%d X %d dataframe\" % (len(df_scop), len(df_scop.columns) ))"
   ]
  },
  {
   "cell_type": "markdown",
   "metadata": {},
   "source": [
    "#### Rename columns to have same names for WoS and Scopus databases:"
   ]
  },
  {
   "cell_type": "code",
   "execution_count": 15,
   "metadata": {},
   "outputs": [],
   "source": [
    "df_scopus.rename(columns ={'EID': 'scopus_number'}, inplace=True)\n",
    "df_scopus.rename(columns ={'Title': 'title'}, inplace=True)\n",
    "df_scopus.rename(columns ={'Authors': 'authors'}, inplace=True)\n",
    "df_scopus.rename(columns ={'Source title': 'source'}, inplace=True)\n",
    "df_scopus.rename(columns ={'DOI': 'doi'}, inplace=True)\n",
    "df_scopus.rename(columns ={'Year': 'publication_year'}, inplace=True)\n",
    "df_scopus.rename(columns ={'Abstract': 'abstract'}, inplace=True)\n",
    "df_scopus.rename(columns ={'Author Keywords': 'author_keywords'}, inplace=True)"
   ]
  },
  {
   "cell_type": "markdown",
   "metadata": {},
   "source": [
    "#### Select only the renamed columns :"
   ]
  },
  {
   "cell_type": "code",
   "execution_count": 16,
   "metadata": {},
   "outputs": [
    {
     "data": {
      "text/html": [
       "<div>\n",
       "<style scoped>\n",
       "    .dataframe tbody tr th:only-of-type {\n",
       "        vertical-align: middle;\n",
       "    }\n",
       "\n",
       "    .dataframe tbody tr th {\n",
       "        vertical-align: top;\n",
       "    }\n",
       "\n",
       "    .dataframe thead th {\n",
       "        text-align: right;\n",
       "    }\n",
       "</style>\n",
       "<table border=\"1\" class=\"dataframe\">\n",
       "  <thead>\n",
       "    <tr style=\"text-align: right;\">\n",
       "      <th></th>\n",
       "      <th>scopus_number</th>\n",
       "      <th>title</th>\n",
       "      <th>authors</th>\n",
       "      <th>source</th>\n",
       "      <th>doi</th>\n",
       "      <th>publication_year</th>\n",
       "      <th>abstract</th>\n",
       "      <th>author_keywords</th>\n",
       "    </tr>\n",
       "  </thead>\n",
       "  <tbody>\n",
       "    <tr>\n",
       "      <th>0</th>\n",
       "      <td>2-s2.0-0012952540</td>\n",
       "      <td>Technology evolution and energy modelling: Ove...</td>\n",
       "      <td>Capros P., Vouyoukas E.L.</td>\n",
       "      <td>International Journal of Global Energy Issues</td>\n",
       "      <td>NaN</td>\n",
       "      <td>2000</td>\n",
       "      <td>This paper provides an overview of the researc...</td>\n",
       "      <td>Climate change; Endogenous technology progress...</td>\n",
       "    </tr>\n",
       "    <tr>\n",
       "      <th>1</th>\n",
       "      <td>2-s2.0-0019698977</td>\n",
       "      <td>MECHANICAL PROPERTY CHANGES OF HASTELLOY X EXP...</td>\n",
       "      <td>McCoy Jr. H.E.</td>\n",
       "      <td>NaN</td>\n",
       "      <td>NaN</td>\n",
       "      <td>1981</td>\n",
       "      <td>[No abstract available]</td>\n",
       "      <td>NaN</td>\n",
       "    </tr>\n",
       "    <tr>\n",
       "      <th>2</th>\n",
       "      <td>2-s2.0-0024755686</td>\n",
       "      <td>Structural deformation of black shale beds res...</td>\n",
       "      <td>Yusupova I.F.</td>\n",
       "      <td>Doklady. Earth science sections</td>\n",
       "      <td>NaN</td>\n",
       "      <td>1989</td>\n",
       "      <td>Any significant decrease in volume or thicknes...</td>\n",
       "      <td>NaN</td>\n",
       "    </tr>\n",
       "    <tr>\n",
       "      <th>3</th>\n",
       "      <td>2-s2.0-0025839071</td>\n",
       "      <td>Global climate change assessment in Washington...</td>\n",
       "      <td>Canning Douglas J.</td>\n",
       "      <td>Coastal Zone: Proceedings of the Symposium on ...</td>\n",
       "      <td>NaN</td>\n",
       "      <td>1991</td>\n",
       "      <td>Two global climate change assessment projects ...</td>\n",
       "      <td>NaN</td>\n",
       "    </tr>\n",
       "    <tr>\n",
       "      <th>4</th>\n",
       "      <td>2-s2.0-0026173249</td>\n",
       "      <td>New reports on energy and the environment</td>\n",
       "      <td>Nadel Steven, Shepherd Michael, Greenberg Stev...</td>\n",
       "      <td>Strategic Planning for Energy and the Environment</td>\n",
       "      <td>NaN</td>\n",
       "      <td>1991</td>\n",
       "      <td>This note reviews new reports on energy and en...</td>\n",
       "      <td>NaN</td>\n",
       "    </tr>\n",
       "  </tbody>\n",
       "</table>\n",
       "</div>"
      ],
      "text/plain": [
       "       scopus_number                                              title  \\\n",
       "0  2-s2.0-0012952540  Technology evolution and energy modelling: Ove...   \n",
       "1  2-s2.0-0019698977  MECHANICAL PROPERTY CHANGES OF HASTELLOY X EXP...   \n",
       "2  2-s2.0-0024755686  Structural deformation of black shale beds res...   \n",
       "3  2-s2.0-0025839071  Global climate change assessment in Washington...   \n",
       "4  2-s2.0-0026173249          New reports on energy and the environment   \n",
       "\n",
       "                                             authors  \\\n",
       "0                          Capros P., Vouyoukas E.L.   \n",
       "1                                     McCoy Jr. H.E.   \n",
       "2                                      Yusupova I.F.   \n",
       "3                                 Canning Douglas J.   \n",
       "4  Nadel Steven, Shepherd Michael, Greenberg Stev...   \n",
       "\n",
       "                                              source  doi  publication_year  \\\n",
       "0      International Journal of Global Energy Issues  NaN              2000   \n",
       "1                                                NaN  NaN              1981   \n",
       "2                    Doklady. Earth science sections  NaN              1989   \n",
       "3  Coastal Zone: Proceedings of the Symposium on ...  NaN              1991   \n",
       "4  Strategic Planning for Energy and the Environment  NaN              1991   \n",
       "\n",
       "                                            abstract  \\\n",
       "0  This paper provides an overview of the researc...   \n",
       "1                            [No abstract available]   \n",
       "2  Any significant decrease in volume or thicknes...   \n",
       "3  Two global climate change assessment projects ...   \n",
       "4  This note reviews new reports on energy and en...   \n",
       "\n",
       "                                     author_keywords  \n",
       "0  Climate change; Endogenous technology progress...  \n",
       "1                                                NaN  \n",
       "2                                                NaN  \n",
       "3                                                NaN  \n",
       "4                                                NaN  "
      ]
     },
     "execution_count": 16,
     "metadata": {},
     "output_type": "execute_result"
    }
   ],
   "source": [
    "col=['scopus_number','title','authors','source','doi','publication_year','abstract','author_keywords']\n",
    "df_scopus = df_scopus.reindex(columns=col)\n",
    "df_scopus.head()"
   ]
  },
  {
   "cell_type": "markdown",
   "metadata": {},
   "source": [
    "### Store databases (df_wos and df_scopus) in pkl format"
   ]
  },
  {
   "cell_type": "code",
   "execution_count": 17,
   "metadata": {},
   "outputs": [
    {
     "data": {
      "text/plain": [
       "['df_wos_df_scopus.pkl']"
      ]
     },
     "execution_count": 17,
     "metadata": {},
     "output_type": "execute_result"
    }
   ],
   "source": [
    "joblib.dump((df_wos,df_scopus), \"df_wos_df_scopus.pkl\")"
   ]
  }
 ],
 "metadata": {
  "kernelspec": {
   "display_name": "Python 3",
   "language": "python",
   "name": "python3"
  },
  "language_info": {
   "codemirror_mode": {
    "name": "ipython",
    "version": 3
   },
   "file_extension": ".py",
   "mimetype": "text/x-python",
   "name": "python",
   "nbconvert_exporter": "python",
   "pygments_lexer": "ipython3",
   "version": "3.5.2"
  }
 },
 "nbformat": 4,
 "nbformat_minor": 2
}
